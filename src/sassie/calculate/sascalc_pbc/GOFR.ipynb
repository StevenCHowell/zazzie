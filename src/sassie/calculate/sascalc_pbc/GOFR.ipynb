{
 "cells": [
  {
   "cell_type": "code",
   "execution_count": 1,
   "metadata": {
    "collapsed": false
   },
   "outputs": [],
   "source": [
    "%matplotlib inline\n",
    "from lennard_gofr import *\n",
    "import sasmol.sasmol as sasmol\n",
    "import numpy as np\n",
    "import matplotlib.pyplot as plt\n",
    "import matplotlib as mpl\n",
    "\n",
    "# Style plots\n",
    "plt.style.use('ggplot')\n",
    "mpl.rcParams['figure.figsize']=(16,9)\n",
    "mpl.rcParams['font.size']=20\n",
    "mpl.rcParams['axes.labelsize']=25\n",
    "mpl.rcParams['axes.titlesize']=25\n",
    "mpl.rcParams['figure.titlesize']=25\n",
    "\n",
    "def GOFR(mol,start=0,end=-2):\n",
    "    from ipywidgets import FloatProgress\n",
    "    from IPython.display import display\n",
    "    from time import sleep\n",
    "    \n",
    "    gc = gofr_calc(mol)\n",
    "    if end==-2:\n",
    "        end = len(mol.coor())-2\n",
    "    f = FloatProgress(min=start, max=end-1)\n",
    "    display(f)\n",
    "    for i in xrange(start,end):\n",
    "        if(i%200==0): print(str(i)+'\\r')\n",
    "        gc.g_hist(i)\n",
    "        f.value=i\n",
    "    return gc.g_of_r()\n",
    "    \n"
   ]
  },
  {
   "cell_type": "code",
   "execution_count": 2,
   "metadata": {
    "collapsed": false
   },
   "outputs": [
    {
     "ename": "IOError",
     "evalue": "[Errno 2] No such file or directory: 'Data/run_0.pdb'",
     "output_type": "error",
     "traceback": [
      "\u001b[1;31m------------------------------------------------------------------------\u001b[0m",
      "\u001b[1;31mIOError\u001b[0m                                Traceback (most recent call last)",
      "\u001b[1;32m<ipython-input-2-4e1efa6ff410>\u001b[0m in \u001b[0;36m<module>\u001b[1;34m()\u001b[0m\n\u001b[0;32m      1\u001b[0m \u001b[0mmol\u001b[0m \u001b[1;33m=\u001b[0m \u001b[0msasmol\u001b[0m\u001b[1;33m.\u001b[0m\u001b[0mSasMol\u001b[0m\u001b[1;33m(\u001b[0m\u001b[1;36m0\u001b[0m\u001b[1;33m)\u001b[0m\u001b[1;33m\u001b[0m\u001b[0m\n\u001b[1;32m----> 2\u001b[1;33m \u001b[0mmol\u001b[0m\u001b[1;33m.\u001b[0m\u001b[0mread_pdb\u001b[0m\u001b[1;33m(\u001b[0m\u001b[1;34m'Data/run_0.pdb'\u001b[0m\u001b[1;33m)\u001b[0m\u001b[1;33m\u001b[0m\u001b[0m\n\u001b[0m\u001b[0;32m      3\u001b[0m \u001b[0mmol\u001b[0m\u001b[1;33m.\u001b[0m\u001b[0mread_dcd\u001b[0m\u001b[1;33m(\u001b[0m\u001b[1;34m'Data/run_1.dcd'\u001b[0m\u001b[1;33m)\u001b[0m\u001b[1;33m\u001b[0m\u001b[0m\n\u001b[0;32m      4\u001b[0m \u001b[1;33m\u001b[0m\u001b[0m\n\u001b[0;32m      5\u001b[0m \u001b[0mr\u001b[0m\u001b[1;33m,\u001b[0m\u001b[0mgr\u001b[0m \u001b[1;33m=\u001b[0m \u001b[0mGOFR\u001b[0m\u001b[1;33m(\u001b[0m\u001b[0mmol\u001b[0m\u001b[1;33m,\u001b[0m\u001b[1;36m800\u001b[0m\u001b[1;33m)\u001b[0m\u001b[1;33m\u001b[0m\u001b[0m\n",
      "\u001b[1;32m/home/ianhi/anaconda/lib/python2.7/site-packages/sasmol/sasio.pyc\u001b[0m in \u001b[0;36mread_pdb\u001b[1;34m(self, filename, **kwargs)\u001b[0m\n\u001b[0;32m    655\u001b[0m             \u001b[0mpdbscan\u001b[0m \u001b[1;33m=\u001b[0m \u001b[0mkwargs\u001b[0m\u001b[1;33m[\u001b[0m\u001b[1;34m'pdbscan'\u001b[0m\u001b[1;33m]\u001b[0m\u001b[1;33m\u001b[0m\u001b[0m\n\u001b[0;32m    656\u001b[0m \u001b[1;33m\u001b[0m\u001b[0m\n\u001b[1;32m--> 657\u001b[1;33m         \u001b[0minfile\u001b[0m\u001b[1;33m=\u001b[0m\u001b[0mopen\u001b[0m\u001b[1;33m(\u001b[0m\u001b[0mfilename\u001b[0m\u001b[1;33m,\u001b[0m\u001b[1;34m'r'\u001b[0m\u001b[1;33m)\u001b[0m\u001b[1;33m.\u001b[0m\u001b[0mreadlines\u001b[0m\u001b[1;33m(\u001b[0m\u001b[1;33m)\u001b[0m\u001b[1;33m\u001b[0m\u001b[0m\n\u001b[0m\u001b[0;32m    658\u001b[0m \u001b[1;33m\u001b[0m\u001b[0m\n\u001b[0;32m    659\u001b[0m         \u001b[1;32mif\u001b[0m\u001b[1;33m(\u001b[0m\u001b[0mprintme\u001b[0m\u001b[1;33m)\u001b[0m\u001b[1;33m:\u001b[0m \u001b[1;32mprint\u001b[0m \u001b[1;34m'reading filename: '\u001b[0m\u001b[1;33m,\u001b[0m\u001b[0mfilename\u001b[0m\u001b[1;33m\u001b[0m\u001b[0m\n",
      "\u001b[1;31mIOError\u001b[0m: [Errno 2] No such file or directory: 'Data/run_0.pdb'"
     ]
    }
   ],
   "source": [
    "mol = sasmol.SasMol(0)\n",
    "mol.read_pdb('Data/run_0.pdb')\n",
    "mol.read_dcd('Data/run_1.dcd')\n",
    "\n",
    "r,gr = GOFR(mol,800)\n",
    "\n",
    "plt.figure(figsize=(10,6))\n",
    "plt.xlabel(r'r ($\\AA}$)')\n",
    "plt.ylabel('g(r)')\n",
    "plt.title('g(r) full argon sim')\n",
    "plt.plot(r,gr)\n",
    "plt.show()"
   ]
  },
  {
   "cell_type": "code",
   "execution_count": null,
   "metadata": {
    "collapsed": false
   },
   "outputs": [],
   "source": [
    "mol = sasmol.SasMol(1)\n",
    "mol.read_pdb('/home/data/ellipsoids_simulation/simulations/LJ_sphere_monomer_high_pressure/run_0.pdb')\n",
    "mol.read_dcd('/home/data/ellipsoids_simulation/simulations/LJ_sphere_monomer_high_pressure/run_1.dcd')\n",
    "\n",
    "\n",
    "r_p9,gr_p9 = GOFR(mol,800)\n",
    "\n",
    "plt.figure(figsize=(10,6))\n",
    "plt.xlabel(r'r ($\\AA}$)')\n",
    "plt.ylabel('g(r)')\n",
    "plt.title('g(r) full argon sim')\n",
    "plt.plot(r_p9,gr_p9)\n",
    "plt.show()"
   ]
  },
  {
   "cell_type": "code",
   "execution_count": null,
   "metadata": {
    "collapsed": false
   },
   "outputs": [],
   "source": [
    "mol = sasmol.SasMol(1)\n",
    "mol.read_pdb('/home/data/ellipsoids_simulation/simulations/LJ_sphere_monomer_13.4A//run_0.pdb')\n",
    "mol.read_dcd('/home/data/ellipsoids_simulation/simulations/LJ_sphere_monomer_high_pressure/run_1.dcd')\n",
    "\n",
    "r_13, gr_13 = GOFR(mol)\n",
    "plt.plot(r_13,gr_13)\n",
    "plt.xlabel(r'r ($\\AA}$)')\n",
    "plt.ylabel('g(r)')\n",
    "plt.show()"
   ]
  },
  {
   "cell_type": "code",
   "execution_count": null,
   "metadata": {
    "collapsed": false
   },
   "outputs": [],
   "source": [
    "folder = '/home/data/ellipsoids_simulation/simulations/'\n",
    "mol = sasmol.SasMol(1)\n",
    "mol.read_pdb(folder+'LJ_sphere_monomer_p1_p0.0213_d0.8_n5000/n5000_fcc0.80001.pdb')\n",
    "mol.read_dcd(folder+'LJ_sphere_monomer_p1_p0.0213_d0.8_n5000/run_1.dcd')\n",
    "\n",
    "r_13, gr_13 = GOFR(mol)\n",
    "plt.plot(r_13,gr_13)\n",
    "plt.xlabel(r'r ($\\AA}$)')\n",
    "plt.ylabel('g(r)')\n",
    "plt.show()"
   ]
  },
  {
   "cell_type": "code",
   "execution_count": null,
   "metadata": {
    "collapsed": true
   },
   "outputs": [],
   "source": []
  }
 ],
 "metadata": {
  "kernelspec": {
   "display_name": "Python 2",
   "language": "python",
   "name": "python2"
  },
  "language_info": {
   "codemirror_mode": {
    "name": "ipython",
    "version": 2
   },
   "file_extension": ".py",
   "mimetype": "text/x-python",
   "name": "python",
   "nbconvert_exporter": "python",
   "pygments_lexer": "ipython2",
   "version": "2.7.11"
  }
 },
 "nbformat": 4,
 "nbformat_minor": 0
}
