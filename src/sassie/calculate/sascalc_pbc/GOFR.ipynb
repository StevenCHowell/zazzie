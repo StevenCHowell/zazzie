{
 "cells": [
  {
   "cell_type": "code",
   "execution_count": null,
   "metadata": {
    "collapsed": false
   },
   "outputs": [],
   "source": [
    "%matplotlib inline\n",
    "from lennard_gofr import *\n",
    "import sasmol.sasmol as sasmol\n",
    "import numpy as np\n",
    "import matplotlib.pyplot as plt\n",
    "import matplotlib as mpl\n",
    "\n",
    "# Style plots\n",
    "plt.style.use('ggplot')\n",
    "mpl.rcParams['figure.figsize']=(16,9)\n",
    "mpl.rcParams['font.size']=20\n",
    "mpl.rcParams['axes.labelsize']=25\n",
    "mpl.rcParams['axes.titlesize']=25\n",
    "mpl.rcParams['figure.titlesize']=25\n",
    "\n",
    "def GOFR(mol,start=0,end=-2):\n",
    "    from ipywidgets import FloatProgress\n",
    "    from IPython.display import display\n",
    "    from time import sleep\n",
    "    \n",
    "    gc = gofr_calc(mol)\n",
    "    if end==-2:\n",
    "        end = len(mol.coor())-2\n",
    "    f = FloatProgress(min=start, max=end-1)\n",
    "    display(f)\n",
    "    for i in xrange(start,end):\n",
    "        if(i%200==0): print(str(i)+'\\r')\n",
    "        gc.g_hist(i)\n",
    "        f.value=i\n",
    "    return gc.g_of_r()\n",
    "    \n"
   ]
  },
  {
   "cell_type": "code",
   "execution_count": null,
   "metadata": {
    "collapsed": false
   },
   "outputs": [],
   "source": [
    "mol = sasmol.SasMol(0)\n",
    "mol.read_pdb('/home/data/sascalc_pbc/pdbs/run_0.pdb')\n",
    "mol.read_dcd('/home/data/sascalc_pbc/pdbs/run_1.dcd')\n",
    "\n",
    "r,gr = GOFR(mol,800)\n",
    "\n",
    "plt.figure(figsize=(10,6))\n",
    "plt.xlabel(r'r ($\\AA}$)')\n",
    "plt.ylabel('g(r)')\n",
    "plt.title('g(r) full argon sim')\n",
    "plt.plot(r,gr)\n",
    "plt.show()"
   ]
  },
  {
   "cell_type": "code",
   "execution_count": null,
   "metadata": {
    "collapsed": false
   },
   "outputs": [],
   "source": [
    "mol = sasmol.SasMol(1)\n",
    "mol.read_pdb(\n",
    "    '/home/data/sascalc_pbc/ellipsoids_simulation/simulations/LJ_sphere_monomer_high_pressure/run_0.pdb')\n",
    "mol.read_dcd(\n",
    "    '/home/data/sascalc_pbc/ellipsoids_simulation/simulations/LJ_sphere_monomer_high_pressure/run_1.dcd')\n",
    "\n",
    "\n",
    "r_p9,gr_p9 = GOFR(mol,800)\n",
    "\n",
    "plt.figure(figsize=(10,6))\n",
    "plt.xlabel(r'r ($\\AA}$)')\n",
    "plt.ylabel('g(r)')\n",
    "plt.title('g(r) full argon sim')\n",
    "plt.plot(r_p9,gr_p9)\n",
    "plt.show()"
   ]
  },
  {
   "cell_type": "code",
   "execution_count": null,
   "metadata": {
    "collapsed": false
   },
   "outputs": [],
   "source": [
    "mol = sasmol.SasMol(1)\n",
    "mol.read_pdb('/home/data/sascalc_pbc/ellipsoids_simulation/simulations/LJ_sphere_monomer_13.4A/run_0.pdb')\n",
    "mol.read_dcd(\n",
    "    '/home/data/sascalc_pbc/ellipsoids_simulation/simulations/LJ_sphere_monomer_high_pressure/run_1.dcd')\n",
    "\n",
    "r_13, gr_13 = GOFR(mol)\n",
    "plt.plot(r_13,gr_13)\n",
    "plt.xlabel(r'r ($\\AA}$)')\n",
    "plt.ylabel('g(r)')\n",
    "plt.show()"
   ]
  },
  {
   "cell_type": "code",
   "execution_count": null,
   "metadata": {
    "collapsed": false
   },
   "outputs": [],
   "source": [
    "folder = '/home/data/sascalc_pbc/ellipsoids_simulation/simulations/'\n",
    "mol = sasmol.SasMol(1)\n",
    "mol.read_pdb(folder+'LJ_sphere_monomer_p1_p0.0213_d0.8_n5000/n5000_fcc0.80001.pdb')\n",
    "mol.read_dcd(folder+'LJ_sphere_monomer_p1_p0.0213_d0.8_n5000/run_1.dcd')\n",
    "\n",
    "r_13, gr_13 = GOFR(mol)\n",
    "plt.plot(r_13,gr_13)\n",
    "plt.xlabel(r'r ($\\AA}$)')\n",
    "plt.ylabel('g(r)')\n",
    "plt.show()"
   ]
  },
  {
   "cell_type": "code",
   "execution_count": null,
   "metadata": {
    "collapsed": true
   },
   "outputs": [],
   "source": []
  }
 ],
 "metadata": {
  "kernelspec": {
   "display_name": "Python 2",
   "language": "python",
   "name": "python2"
  },
  "language_info": {
   "codemirror_mode": {
    "name": "ipython",
    "version": 2
   },
   "file_extension": ".py",
   "mimetype": "text/x-python",
   "name": "python",
   "nbconvert_exporter": "python",
   "pygments_lexer": "ipython2",
   "version": "2.7.11"
  }
 },
 "nbformat": 4,
 "nbformat_minor": 0
}
